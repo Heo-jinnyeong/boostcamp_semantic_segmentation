{
 "cells": [
  {
   "cell_type": "code",
   "execution_count": 38,
   "metadata": {},
   "outputs": [],
   "source": [
    "import pandas as pd\n",
    "import numpy as np\n",
    "import json\n",
    "from collections import OrderedDict, defaultdict\n",
    "from tqdm import tqdm\n",
    "import copy"
   ]
  },
  {
   "cell_type": "code",
   "execution_count": 39,
   "metadata": {},
   "outputs": [],
   "source": [
    "# ensemble을 진행할 csv 파일 경로 설정\n",
    "mask_path1 = '/opt/ml/input/code/submission/upernet_copypaste.csv'\n",
    "mask_path2 = '/opt/ml/input/code/submission/convnext_best_no_pseudo.csv'\n",
    "\n",
    "df_mask1 = pd.read_csv(mask_path1,sep=',')\n",
    "df_mask2 = pd.read_csv(mask_path2,sep=',')"
   ]
  },
  {
   "cell_type": "code",
   "execution_count": 15,
   "metadata": {},
   "outputs": [],
   "source": [
    "def Convert2Int(data):\n",
    "    for i in tqdm(range(len(data))):\n",
    "        tmp1 = data['PredictionString'][i].split(' ')\n",
    "        tmp2 = list(map(int,tmp1))\n",
    "        data['PredictionString'][i] = tmp2\n",
    "    return data"
   ]
  },
  {
   "cell_type": "code",
   "execution_count": 40,
   "metadata": {},
   "outputs": [
    {
     "name": "stderr",
     "output_type": "stream",
     "text": [
      "100%|██████████| 819/819 [00:07<00:00, 103.41it/s]\n",
      "100%|██████████| 819/819 [00:08<00:00, 99.68it/s] \n"
     ]
    }
   ],
   "source": [
    "mask1 = Convert2Int(df_mask1)\n",
    "mask2 = Convert2Int(df_mask2)"
   ]
  },
  {
   "attachments": {
    "image-3.png": {
     "image/png": "[encoded data removed]"
    },
    "image.png": {
     "image/png": "[encoded data removed]"
    }
   },
   "cell_type": "markdown",
   "metadata": {},
   "source": [
    "upernet beit ![image.png](attachment:image.png)\n",
    "convnext ![image.png](attachment:image-3.png)\n",
    "\n",
    "classes = [\"General trash\",\"Paper\",\"Paper pack\",\"Metal\",\"Glass\",\"Plastic\",\"Styrofoam\",\"Plastic bag\",\"Battery\",\"Clothing\",\n",
    "]"
   ]
  },
  {
   "cell_type": "code",
   "execution_count": 41,
   "metadata": {},
   "outputs": [],
   "source": [
    "mask1_weight = [98.67, 61.64, 93.87, 82.93, 82.22, 79.09, 74.51, 87.91, 93.46, 98.18, 77.86]\n",
    "mask2_weight = [98.75, 59.55, 92.86, 78.92, 81.00, 84.80, 77.53, 86.95, 93.90, 98.30, 85.52]"
   ]
  },
  {
   "cell_type": "code",
   "execution_count": 42,
   "metadata": {},
   "outputs": [
    {
     "name": "stderr",
     "output_type": "stream",
     "text": [
      "100%|██████████| 819/819 [08:47<00:00,  1.55it/s]"
     ]
    },
    {
     "name": "stdout",
     "output_type": "stream",
     "text": [
      "1698327\n"
     ]
    },
    {
     "name": "stderr",
     "output_type": "stream",
     "text": [
      "\n"
     ]
    }
   ],
   "source": [
    "cnt = 0\n",
    "for i in tqdm(range(len(mask1))):\n",
    "    for j in range(len(mask1['PredictionString'][0])):\n",
    "        if mask1['PredictionString'][i][j] != mask2['PredictionString'][i][j]:\n",
    "            if mask1_weight[mask1['PredictionString'][i][j]] >= mask2_weight[mask1['PredictionString'][i][j]]:\n",
    "                tmp1 = copy.deepcopy(mask1['PredictionString'][i][j])\n",
    "                mask2['PredictionString'][i][j] = tmp1\n",
    "                cnt += 1\n",
    "            else:\n",
    "                tmp1 = copy.deepcopy(mask2['PredictionString'][i][j])\n",
    "                mask1['PredictionString'][i][j] = tmp1\n",
    "                cnt += 1\n",
    "\n",
    "print(cnt)"
   ]
  },
  {
   "cell_type": "code",
   "execution_count": 43,
   "metadata": {},
   "outputs": [
    {
     "name": "stderr",
     "output_type": "stream",
     "text": [
      "100%|██████████| 819/819 [00:11<00:00, 71.32it/s]\n"
     ]
    }
   ],
   "source": [
    "tmp1 = df_mask1['PredictionString']\n",
    "\n",
    "for i in tqdm(range(len(tmp1))):\n",
    "    tmp2 = df_mask1['PredictionString'][i]\n",
    "    tmp3 = ' '.join(str(i) for i in tmp2)\n",
    "    df_mask1['PredictionString'][i] = tmp3"
   ]
  },
  {
   "cell_type": "code",
   "execution_count": 44,
   "metadata": {},
   "outputs": [],
   "source": [
    "df_mask1.to_csv('/opt/ml/input/code/submission/ensemble_no_pseudo.csv')"
   ]
  },
  {
   "cell_type": "code",
   "execution_count": 37,
   "metadata": {},
   "outputs": [
    {
     "data": {
      "text/plain": [
       "defaultdict(int,\n",
       "            {'0': 0,\n",
       "             '1': 0,\n",
       "             '2': 0,\n",
       "             '3': 0,\n",
       "             '4': 0,\n",
       "             '5': 0,\n",
       "             '6': 0,\n",
       "             '7': 0,\n",
       "             '8': 0,\n",
       "             '9': 0,\n",
       "             '10': 0})"
      ]
     },
     "execution_count": 37,
     "metadata": {},
     "output_type": "execute_result"
    }
   ],
   "source": [
    "from collections import defaultdict\n",
    "\n",
    "tmp1 = defaultdict(int)\n",
    "for i in range(11):\n",
    "    tmp1[str(i)]\n",
    "tmp1\n"
   ]
  },
  {
   "cell_type": "code",
   "execution_count": null,
   "metadata": {},
   "outputs": [],
   "source": [
    "m = 3\n",
    "n = 2\n"
   ]
  },
  {
   "cell_type": "code",
   "execution_count": null,
   "metadata": {},
   "outputs": [],
   "source": [
    "cnt = 0\n",
    "for i in tqdm(range(len(mask1))):\n",
    "    for j in range(len(mask1['PredictionString'][0])):\n",
    "\n",
    "        a = mask1['PredictionString'][i][j]\n",
    "        b = mask2['PredictionString'][i][j]\n",
    "        c = mask3['PredictionString'][i][j]\n",
    "        d = mask4['PredictionString'][i][j]\n",
    "\n",
    "        if mask1['PredictionString'][i][j] != mask2['PredictionString'][i][j] :\n",
    "            if mask1_weight[mask1['PredictionString'][i][j]] >= mask2_weight[mask1['PredictionString'][i][j]]:\n",
    "                tmp1 = copy.deepcopy(mask1['PredictionString'][i][j])\n",
    "                mask2['PredictionString'][i][j] = tmp1\n",
    "                cnt += 1\n",
    "            else:\n",
    "                tmp1 = copy.deepcopy(mask2['PredictionString'][i][j])\n",
    "                mask1['PredictionString'][i][j] = tmp1\n",
    "                cnt += 1\n",
    "\n",
    "print(cnt)"
   ]
  },
  {
   "cell_type": "code",
   "execution_count": null,
   "metadata": {},
   "outputs": [],
   "source": []
  },
  {
   "cell_type": "code",
   "execution_count": null,
   "metadata": {},
   "outputs": [],
   "source": []
  },
  {
   "cell_type": "code",
   "execution_count": 8,
   "metadata": {},
   "outputs": [],
   "source": [
    "psedo_data = OrderedDict()\n",
    "annotations = []"
   ]
  },
  {
   "cell_type": "code",
   "execution_count": 12,
   "metadata": {},
   "outputs": [],
   "source": [
    "for i in df_mask['PredictionString']:\n",
    "    psedo_data = OrderedDict()\n",
    "    \n",
    "    tmp1 = i.split(' ')\n",
    "    tmp2 = list(map(int,tmp1))\n",
    "    tmp2 = np.array(tmp2).reshape((256,256))\n",
    "\n",
    "    category = np.unique(tmp2)\n",
    "    if category[0] == 0:\n",
    "        category = category[1:]\n",
    "\n",
    "    for idx, j in enumerate(category):\n",
    "        psedo_data[\"id\"] = idx\n",
    "        psedo_data[\"category_id\"] = int(j)\n",
    "        psedo_data[\"segmentation\"] = []\n",
    "        xy = np.where(tmp2 == j)\n",
    "\n",
    "        for k in range(len(xy[0])):\n",
    "            psedo_data[\"segmentation\"].append(int(xy[0][k]))\n",
    "            psedo_data[\"segmentation\"].append(int(xy[1][k]))\n",
    "\n",
    "    # psedo_data = json.dumps(psedo_data)\n",
    "\n",
    "    annotations.append(psedo_data)\n",
    "    \n",
    "with open('test1.json','w',encoding='utf-8') as t:\n",
    "    json.dump(annotations, t, ensure_ascii=False, indent='\\t')\n"
   ]
  },
  {
   "cell_type": "code",
   "execution_count": 26,
   "metadata": {},
   "outputs": [],
   "source": []
  },
  {
   "cell_type": "code",
   "execution_count": 27,
   "metadata": {},
   "outputs": [],
   "source": []
  },
  {
   "cell_type": "code",
   "execution_count": null,
   "metadata": {},
   "outputs": [],
   "source": []
  }
 ],
 "metadata": {
  "kernelspec": {
   "display_name": "base",
   "language": "python",
   "name": "python3"
  },
  "language_info": {
   "codemirror_mode": {
    "name": "ipython",
    "version": 3
   },
   "file_extension": ".py",
   "mimetype": "text/x-python",
   "name": "python",
   "nbconvert_exporter": "python",
   "pygments_lexer": "ipython3",
   "version": "3.8.5"
  },
  "orig_nbformat": 4,
  "vscode": {
   "interpreter": {
    "hash": "d4d1e4263499bec80672ea0156c357c1ee493ec2b1c70f0acce89fc37c4a6abe"
   }
  }
 },
 "nbformat": 4,
 "nbformat_minor": 2
}
